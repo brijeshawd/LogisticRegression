{
 "cells": [
  {
   "cell_type": "code",
   "execution_count": 3,
   "id": "9246b841",
   "metadata": {},
   "outputs": [],
   "source": [
    "import numpy as np\n",
    "import matplotlib.pyplot as plt"
   ]
  },
  {
   "cell_type": "code",
   "execution_count": 5,
   "id": "bdcc1204",
   "metadata": {},
   "outputs": [],
   "source": [
    "def sigmoid(z):\n",
    "    return 1/(1 + np.exp(-z))"
   ]
  },
  {
   "cell_type": "code",
   "execution_count": 6,
   "id": "4ffe5db5",
   "metadata": {},
   "outputs": [
    {
     "data": {
      "text/plain": [
       "1.0"
      ]
     },
     "execution_count": 6,
     "metadata": {},
     "output_type": "execute_result"
    }
   ],
   "source": [
    "sigmoid(100)"
   ]
  },
  {
   "cell_type": "code",
   "execution_count": 8,
   "id": "af2d0e75",
   "metadata": {},
   "outputs": [
    {
     "data": {
      "text/plain": [
       "3.7200759760208356e-44"
      ]
     },
     "execution_count": 8,
     "metadata": {},
     "output_type": "execute_result"
    }
   ],
   "source": [
    "sigmoid(-100)"
   ]
  },
  {
   "cell_type": "code",
   "execution_count": 9,
   "id": "7aee6eae",
   "metadata": {},
   "outputs": [
    {
     "data": {
      "text/plain": [
       "0.5"
      ]
     },
     "execution_count": 9,
     "metadata": {},
     "output_type": "execute_result"
    }
   ],
   "source": [
    "sigmoid(0)"
   ]
  },
  {
   "cell_type": "code",
   "execution_count": 19,
   "id": "665af280",
   "metadata": {},
   "outputs": [],
   "source": [
    "x = np.arange(-10, 10, 0.1)\n",
    "# x"
   ]
  },
  {
   "cell_type": "code",
   "execution_count": 20,
   "id": "4e4b98a7",
   "metadata": {},
   "outputs": [],
   "source": [
    "y = sigmoid(x)"
   ]
  },
  {
   "cell_type": "code",
   "execution_count": 24,
   "id": "ff0724bb",
   "metadata": {},
   "outputs": [
    {
     "data": {
      "image/png": "[encoded data removed]",
      "text/plain": [
       "<Figure size 432x288 with 1 Axes>"
      ]
     },
     "metadata": {
      "needs_background": "light"
     },
     "output_type": "display_data"
    }
   ],
   "source": [
    "plt.plot(x, y)\n",
    "plt.grid(\"on\")\n",
    "plt.xlabel(\"x\")\n",
    "plt.ylabel(\"sig(x)\");"
   ]
  },
  {
   "cell_type": "code",
   "execution_count": null,
   "id": "f5c81d47",
   "metadata": {},
   "outputs": [],
   "source": []
  },
  {
   "cell_type": "code",
   "execution_count": 26,
   "id": "9ec79138",
   "metadata": {},
   "outputs": [],
   "source": [
    "def log_loss(y, y_hat):\n",
    "    loss = y*np.log(y_hat) + (1-y)*np.log(1-y_hat)\n",
    "    return -loss"
   ]
  },
  {
   "cell_type": "code",
   "execution_count": 27,
   "id": "3a9550b2",
   "metadata": {},
   "outputs": [
    {
     "data": {
      "text/plain": [
       "0.01005033585350145"
      ]
     },
     "execution_count": 27,
     "metadata": {},
     "output_type": "execute_result"
    }
   ],
   "source": [
    "log_loss(1, 0.99)"
   ]
  },
  {
   "cell_type": "code",
   "execution_count": 28,
   "id": "295cbeab",
   "metadata": {},
   "outputs": [
    {
     "data": {
      "text/plain": [
       "0.6931471805599453"
      ]
     },
     "execution_count": 28,
     "metadata": {},
     "output_type": "execute_result"
    }
   ],
   "source": [
    "log_loss(1, 0.5)"
   ]
  },
  {
   "cell_type": "code",
   "execution_count": 29,
   "id": "e02bcf30",
   "metadata": {},
   "outputs": [
    {
     "data": {
      "text/plain": [
       "2.3025850929940455"
      ]
     },
     "execution_count": 29,
     "metadata": {},
     "output_type": "execute_result"
    }
   ],
   "source": [
    "log_loss(1, 0.1)"
   ]
  },
  {
   "cell_type": "code",
   "execution_count": 30,
   "id": "dc9ea564",
   "metadata": {},
   "outputs": [
    {
     "data": {
      "text/plain": [
       "0.0010005003335835344"
      ]
     },
     "execution_count": 30,
     "metadata": {},
     "output_type": "execute_result"
    }
   ],
   "source": [
    "log_loss(0, 0.001)"
   ]
  },
  {
   "cell_type": "code",
   "execution_count": null,
   "id": "892038ae",
   "metadata": {},
   "outputs": [],
   "source": []
  },
  {
   "cell_type": "code",
   "execution_count": 44,
   "id": "4ee3dd6b",
   "metadata": {},
   "outputs": [],
   "source": [
    "def hypothesis(X, W):\n",
    "    return sigmoid(np.dot(X, W))"
   ]
  },
  {
   "cell_type": "code",
   "execution_count": 45,
   "id": "130cbd4f",
   "metadata": {},
   "outputs": [],
   "source": [
    "def error(X, Y, W):\n",
    "    Y_hat = hypothesis(X, W)\n",
    "\n",
    "    err = Y*np.log(Y_hat) + (1-Y)*np.log(1-Y_hat)\n",
    "    \n",
    "    return -err.mean()"
   ]
  },
  {
   "cell_type": "code",
   "execution_count": 31,
   "id": "6e4562e1",
   "metadata": {},
   "outputs": [],
   "source": [
    "def gradient(X, Y, W):\n",
    "    Y_hat = hypothesis(X, W)\n",
    "    grad = np.dot(X.T, (Y_hat - Y))\n",
    "    \n",
    "    return 2*grad/len(X)"
   ]
  },
  {
   "cell_type": "code",
   "execution_count": 49,
   "id": "a1b1f185",
   "metadata": {},
   "outputs": [],
   "source": [
    "def gradient_descent(X, Y, max_itr = 100, learning_rate = 0.1):\n",
    "    # step 1 : init() randomly\n",
    "    \n",
    "    W = np.random.rand(X.shape[1], 1)\n",
    "    error_list = []\n",
    "    \n",
    "    # step 2: repeate 100 times\n",
    "    for i in range(max_itr):\n",
    "        e = error(X, Y, W)\n",
    "        error_list.append(e)\n",
    "        \n",
    "        grad = gradient(X, Y, W)\n",
    "        W = W - learning_rate*grad\n",
    "        \n",
    "    \n",
    "    return W.round(3), error_list"
   ]
  },
  {
   "cell_type": "code",
   "execution_count": null,
   "id": "7bf69bf6",
   "metadata": {},
   "outputs": [],
   "source": []
  },
  {
   "cell_type": "code",
   "execution_count": 33,
   "id": "3021fc0a",
   "metadata": {},
   "outputs": [],
   "source": [
    "from sklearn.datasets import make_classification"
   ]
  },
  {
   "cell_type": "code",
   "execution_count": 72,
   "id": "f8f05855",
   "metadata": {},
   "outputs": [],
   "source": [
    "X, y = make_classification(n_samples=500, \n",
    "                    n_features=2, \n",
    "                    n_redundant=0,\n",
    "                    n_clusters_per_class=1, \n",
    "                    random_state=5 )"
   ]
  },
  {
   "cell_type": "code",
   "execution_count": 73,
   "id": "89f6207a",
   "metadata": {},
   "outputs": [
    {
     "data": {
      "text/plain": [
       "(500, 2)"
      ]
     },
     "execution_count": 73,
     "metadata": {},
     "output_type": "execute_result"
    }
   ],
   "source": [
    "X.shape"
   ]
  },
  {
   "cell_type": "code",
   "execution_count": 74,
   "id": "fb7d1ca3",
   "metadata": {},
   "outputs": [
    {
     "data": {
      "text/plain": [
       "(500, 1)"
      ]
     },
     "execution_count": 74,
     "metadata": {},
     "output_type": "execute_result"
    }
   ],
   "source": [
    "y= y.reshape(-1,1)\n",
    "y.shape"
   ]
  },
  {
   "cell_type": "code",
   "execution_count": 75,
   "id": "e23186eb",
   "metadata": {},
   "outputs": [
    {
     "data": {
      "text/plain": [
       "array([[ 1.22167239, -0.4757541 ],\n",
       "       [-0.2292072 , -1.85663378],\n",
       "       [-1.34913896,  0.50458721],\n",
       "       [ 0.31402206, -1.62029248],\n",
       "       [ 1.13807877, -0.99148158]])"
      ]
     },
     "execution_count": 75,
     "metadata": {},
     "output_type": "execute_result"
    }
   ],
   "source": [
    "X[:5]"
   ]
  },
  {
   "cell_type": "code",
   "execution_count": null,
   "id": "b1f83654",
   "metadata": {},
   "outputs": [],
   "source": []
  },
  {
   "cell_type": "code",
   "execution_count": 76,
   "id": "e8d2e999",
   "metadata": {},
   "outputs": [
    {
     "data": {
      "text/plain": [
       "<matplotlib.collections.PathCollection at 0x7f907209a8b0>"
      ]
     },
     "execution_count": 76,
     "metadata": {},
     "output_type": "execute_result"
    },
    {
     "data": {
      "image/png": "[encoded data removed]",
      "text/plain": [
       "<Figure size 432x288 with 1 Axes>"
      ]
     },
     "metadata": {
      "needs_background": "light"
     },
     "output_type": "display_data"
    }
   ],
   "source": [
    "plt.scatter(X[:, 0], X[:, 1], c= y)"
   ]
  },
  {
   "cell_type": "code",
   "execution_count": 77,
   "id": "96a87b0c",
   "metadata": {},
   "outputs": [],
   "source": [
    "ones = np.ones((len(X), 1))\n",
    "X_new = np.hstack((ones, X))"
   ]
  },
  {
   "cell_type": "code",
   "execution_count": 78,
   "id": "b747a101",
   "metadata": {},
   "outputs": [
    {
     "data": {
      "text/plain": [
       "(500, 3)"
      ]
     },
     "execution_count": 78,
     "metadata": {},
     "output_type": "execute_result"
    }
   ],
   "source": [
    "X_new.shape"
   ]
  },
  {
   "cell_type": "code",
   "execution_count": 79,
   "id": "06d069d7",
   "metadata": {},
   "outputs": [
    {
     "data": {
      "text/plain": [
       "array([[ 1.        ,  1.22167239, -0.4757541 ],\n",
       "       [ 1.        , -0.2292072 , -1.85663378],\n",
       "       [ 1.        , -1.34913896,  0.50458721],\n",
       "       [ 1.        ,  0.31402206, -1.62029248],\n",
       "       [ 1.        ,  1.13807877, -0.99148158]])"
      ]
     },
     "execution_count": 79,
     "metadata": {},
     "output_type": "execute_result"
    }
   ],
   "source": [
    "X_new[:5]"
   ]
  },
  {
   "cell_type": "code",
   "execution_count": 80,
   "id": "e2fded92",
   "metadata": {},
   "outputs": [],
   "source": [
    "opt_weights, loss =  gradient_descent(X_new, y, max_itr=200)"
   ]
  },
  {
   "cell_type": "code",
   "execution_count": 81,
   "id": "1738f797",
   "metadata": {},
   "outputs": [
    {
     "data": {
      "text/plain": [
       "[<matplotlib.lines.Line2D at 0x7f90723074c0>]"
      ]
     },
     "execution_count": 81,
     "metadata": {},
     "output_type": "execute_result"
    },
    {
     "data": {
      "image/png": "[encoded data removed]",
      "text/plain": [
       "<Figure size 432x288 with 1 Axes>"
      ]
     },
     "metadata": {
      "needs_background": "light"
     },
     "output_type": "display_data"
    }
   ],
   "source": [
    "plt.plot(loss)"
   ]
  },
  {
   "cell_type": "code",
   "execution_count": 82,
   "id": "747d23ee",
   "metadata": {},
   "outputs": [
    {
     "data": {
      "text/plain": [
       "array([[0.794],\n",
       "       [3.182],\n",
       "       [0.557]])"
      ]
     },
     "execution_count": 82,
     "metadata": {},
     "output_type": "execute_result"
    }
   ],
   "source": [
    "opt_weights"
   ]
  },
  {
   "cell_type": "code",
   "execution_count": 83,
   "id": "4d43a65c",
   "metadata": {},
   "outputs": [
    {
     "data": {
      "text/plain": [
       "array([ 1.        ,  1.24405272, -1.31255076])"
      ]
     },
     "execution_count": 83,
     "metadata": {},
     "output_type": "execute_result"
    }
   ],
   "source": [
    "X_new[50]"
   ]
  },
  {
   "cell_type": "markdown",
   "id": "27207f30",
   "metadata": {},
   "source": [
    "## Prediction"
   ]
  },
  {
   "cell_type": "code",
   "execution_count": 84,
   "id": "47f467c2",
   "metadata": {},
   "outputs": [
    {
     "data": {
      "text/plain": [
       "array([0.98238937])"
      ]
     },
     "execution_count": 84,
     "metadata": {},
     "output_type": "execute_result"
    }
   ],
   "source": [
    "hypothesis(X_new[50], opt_weights)"
   ]
  },
  {
   "cell_type": "code",
   "execution_count": 85,
   "id": "5255e4d2",
   "metadata": {},
   "outputs": [
    {
     "data": {
      "text/plain": [
       "array([[0.9880661 ],\n",
       "       [0.2749837 ],\n",
       "       [0.03849745],\n",
       "       [0.70903776],\n",
       "       [0.97942948]])"
      ]
     },
     "execution_count": 85,
     "metadata": {},
     "output_type": "execute_result"
    }
   ],
   "source": [
    "Y_hat = hypothesis(X_new, opt_weights)\n",
    "Y_hat[:5]"
   ]
  },
  {
   "cell_type": "code",
   "execution_count": 86,
   "id": "ecce8fe6",
   "metadata": {},
   "outputs": [
    {
     "data": {
      "text/plain": [
       "array([[1],\n",
       "       [0],\n",
       "       [0],\n",
       "       [1],\n",
       "       [1]])"
      ]
     },
     "execution_count": 86,
     "metadata": {},
     "output_type": "execute_result"
    }
   ],
   "source": [
    "predictions = Y_hat.round().astype('int')\n",
    "predictions[:5]"
   ]
  },
  {
   "cell_type": "markdown",
   "id": "01984e2b",
   "metadata": {},
   "source": [
    "## Performance"
   ]
  },
  {
   "cell_type": "code",
   "execution_count": 88,
   "id": "99a1f82f",
   "metadata": {},
   "outputs": [],
   "source": [
    "# predictions"
   ]
  },
  {
   "cell_type": "code",
   "execution_count": 89,
   "id": "c3f811ea",
   "metadata": {},
   "outputs": [
    {
     "data": {
      "text/plain": [
       "96.0"
      ]
     },
     "execution_count": 89,
     "metadata": {},
     "output_type": "execute_result"
    }
   ],
   "source": [
    "(y==predictions).mean()*100"
   ]
  },
  {
   "cell_type": "code",
   "execution_count": null,
   "id": "c3653b4d",
   "metadata": {},
   "outputs": [],
   "source": []
  }
 ],
 "metadata": {
  "kernelspec": {
   "display_name": "Python 3",
   "language": "python",
   "name": "python3"
  },
  "language_info": {
   "codemirror_mode": {
    "name": "ipython",
    "version": 3
   },
   "file_extension": ".py",
   "mimetype": "text/x-python",
   "name": "python",
   "nbconvert_exporter": "python",
   "pygments_lexer": "ipython3",
   "version": "3.8.8"
  }
 },
 "nbformat": 4,
 "nbformat_minor": 5
}
